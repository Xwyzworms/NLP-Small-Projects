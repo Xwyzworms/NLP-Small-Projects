{
  "nbformat": 4,
  "nbformat_minor": 0,
  "metadata": {
    "colab": {
      "name": "ChatbotSeq2Seq.ipynb",
      "provenance": []
    },
    "kernelspec": {
      "name": "python3",
      "display_name": "Python 3"
    }
  },
  "cells": [
    {
      "cell_type": "code",
      "metadata": {
        "colab": {
          "base_uri": "https://localhost:8080/"
        },
        "id": "9JjXjdCY5JFK",
        "outputId": "a2eef6ae-bb27-4a7d-a7a4-c66ce4a9c03e"
      },
      "source": [
        "import numpy as np\r\n",
        "import tensorflow as tf\r\n",
        "import pickle\r\n",
        "import os\r\n",
        "import yaml\r\n",
        "from tensorflow.keras import models,layers,preprocessing,activations,models,utils\r\n",
        "import pandas as pd\r\n",
        "from google.colab import drive; drive.mount(\"/content/drive\")"
      ],
      "execution_count": 34,
      "outputs": [
        {
          "output_type": "stream",
          "text": [
            "Drive already mounted at /content/drive; to attempt to forcibly remount, call drive.mount(\"/content/drive\", force_remount=True).\n"
          ],
          "name": "stdout"
        }
      ]
    },
    {
      "cell_type": "code",
      "metadata": {
        "colab": {
          "base_uri": "https://localhost:8080/"
        },
        "id": "A0SghTwf5zT9",
        "outputId": "4efe29a4-2075-416b-da08-961ebfdb1867"
      },
      "source": [
        "dir_path = \"/content/drive/My Drive/Dataset/Chatbot1/\"\r\n",
        "chatbotfile = \"/content/drive/My Drive/Dataset/chat_bot.xlsx\"\r\n",
        "files = os.listdir(dir_path)\r\n",
        "df = pd.read_excel(chatbotfile)\r\n",
        "\r\n",
        "questions = []\r\n",
        "answers = []\r\n",
        "\r\n",
        "for thefile in files:\r\n",
        "  stream = open(dir_path + thefile ,\"rb\")\r\n",
        "  docs = yaml.safe_load(stream)\r\n",
        "  conversations = docs[\"conversations\"]\r\n",
        "  for conversation in conversations: \r\n",
        "      if len(conversation) > 2 :\r\n",
        "        questions.append(conversation[0])\r\n",
        "        answer = \"\"\r\n",
        "        replies = conversation[1 : ]\r\n",
        "        for reply in replies :\r\n",
        "          answer += \" \" + reply\r\n",
        "        \r\n",
        "        answers.append(ans)\r\n",
        "      elif len(conversation) <= 2:\r\n",
        "        questions.append(conversation[0])\r\n",
        "        answers.append(conversation[1])\r\n",
        "\r\n",
        "\r\n",
        "      \r\n",
        "len(df) ,len(answers) ,len(questions)"
      ],
      "execution_count": 36,
      "outputs": [
        {
          "output_type": "execute_result",
          "data": {
            "text/plain": [
              "(1505, 566, 566)"
            ]
          },
          "metadata": {
            "tags": []
          },
          "execution_count": 36
        }
      ]
    },
    {
      "cell_type": "code",
      "metadata": {
        "colab": {
          "base_uri": "https://localhost:8080/"
        },
        "id": "-3o_eaaZC-UC",
        "outputId": "0946df34-602e-4d14-eacb-00ddad5cd222"
      },
      "source": [
        "df.columns"
      ],
      "execution_count": 37,
      "outputs": [
        {
          "output_type": "execute_result",
          "data": {
            "text/plain": [
              "Index(['Context', 'Text Response'], dtype='object')"
            ]
          },
          "metadata": {
            "tags": []
          },
          "execution_count": 37
        }
      ]
    },
    {
      "cell_type": "code",
      "metadata": {
        "colab": {
          "base_uri": "https://localhost:8080/"
        },
        "id": "ealOPdgU7skO",
        "outputId": "9ab2ecbe-60b5-4998-aa02-c074947127ee"
      },
      "source": [
        "def getContext(text):\r\n",
        "  questions.append(text)\r\n",
        "def getResponse(text):\r\n",
        "  answers.append(text)\r\n",
        "\r\n",
        "df[\"Context\"].apply(getContext)\r\n",
        "df[\"Text Response\"].apply(getResponse)\r\n",
        "len(answers), len(questions)"
      ],
      "execution_count": 38,
      "outputs": [
        {
          "output_type": "execute_result",
          "data": {
            "text/plain": [
              "(2071, 2071)"
            ]
          },
          "metadata": {
            "tags": []
          },
          "execution_count": 38
        }
      ]
    },
    {
      "cell_type": "code",
      "metadata": {
        "colab": {
          "base_uri": "https://localhost:8080/"
        },
        "id": "sQyP1CINDRt5",
        "outputId": "92d7c484-de3f-4d59-ef87-f848f4102f04"
      },
      "source": [
        "cleanedAnswer = []\r\n",
        "for i in range(len(answers)):\r\n",
        "  if type(answers[i]) == str and type(answers[i]) != dict:\r\n",
        "    cleanedAnswer.append(answers[i])\r\n",
        "  else:\r\n",
        "    answers.pop(i)\r\n",
        "FinalAnswer = []\r\n",
        "for i in range(len(cleanedAnswer)):\r\n",
        "  modifiedAns = \"<START> \" + cleanedAnswer[i] +\" <END>\"\r\n",
        "  FinalAnswer.append(modifiedAns)\r\n",
        "\r\n",
        "print(len(FinalAnswer))\r\n",
        "print(FinalAnswer[1:10])"
      ],
      "execution_count": 50,
      "outputs": [
        {
          "output_type": "stream",
          "text": [
            "2069\n",
            "['<START> cancer. <END>', '<START> wavelength is the inverse of frequency. <END>', '<START> the branch of physics dealing with the transformation of heat to and from other forms of energy, and with the laws governing such conversions of energy. <END>', '<START> the science of mixing chemicals. <END>', '<START> this is the science dealing with the study of crystals. <END>', '<START> it is the number of molecules per mole.  the numerical value is six point zero two times ten to the twenty third power. <END>', '<START> ultrasonic waves, used in medical diagnosis and therapy, in surgery, etc. <END>', '<START> a fancy name for applied computer science in biology. <END>', '<START> in roman mythology, the goddess of love and beauty; identified with the greek aphrodite. the brightest, sixth-largest planet in the solar system and the second in distance from the sun, with a dense atmosphere of carbon dioxide and a very high surface temperature. <END>']\n"
          ],
          "name": "stdout"
        }
      ]
    },
    {
      "cell_type": "code",
      "metadata": {
        "colab": {
          "base_uri": "https://localhost:8080/"
        },
        "id": "lA1E7ef_E0YX",
        "outputId": "2b869452-af06-49f1-c24a-0689b14747ee"
      },
      "source": [
        "tokenizer = preprocessing.text.Tokenizer()\r\n",
        "tokenizer.fit_on_texts(questions + FinalAnswer)\r\n",
        "VOCAB_SIZE = len(tokenizer.word_index) + 1\r\n",
        "print('VOCAB SIZE : {}'.format(VOCAB_SIZE))"
      ],
      "execution_count": 54,
      "outputs": [
        {
          "output_type": "stream",
          "text": [
            "VOCAB SIZE : 2228\n"
          ],
          "name": "stdout"
        }
      ]
    },
    {
      "cell_type": "code",
      "metadata": {
        "colab": {
          "base_uri": "https://localhost:8080/"
        },
        "id": "ssz5ra2DGJ5A",
        "outputId": "276da05b-07b0-4661-9590-80fb29d9fa9b"
      },
      "source": [
        "list(tokenizer.word_docs.keys())[1:5]"
      ],
      "execution_count": 70,
      "outputs": [
        {
          "output_type": "execute_result",
          "data": {
            "text/plain": [
              "['of', 'what', 'laws', 'thermodynamics']"
            ]
          },
          "metadata": {
            "tags": []
          },
          "execution_count": 70
        }
      ]
    },
    {
      "cell_type": "code",
      "metadata": {
        "id": "seJOkL3HIHi0"
      },
      "source": [
        ""
      ],
      "execution_count": null,
      "outputs": []
    }
  ]
}